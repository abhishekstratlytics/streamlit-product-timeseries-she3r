{
 "cells": [
  {
   "cell_type": "code",
   "execution_count": 1,
   "id": "9b468d96",
   "metadata": {},
   "outputs": [],
   "source": [
    "import pandas as pd\n",
    "import numpy as np\n",
    "import matplotlib.pyplot as plt\n",
    "from sklearn.ensemble import RandomForestRegressor\n",
    "from xgboost import XGBRegressor\n",
    "from statsmodels.tsa.arima.model import ARIMA\n",
    "import datetime\n",
    "import pmdarima as pm\n",
    "from sklearn.metrics import mean_absolute_error as mae\n",
    "import statsmodels.api as sm\n",
    "from statsmodels.tsa.stattools import adfuller\n",
    "from statsmodels.tsa.stattools import acf,pacf\n",
    "import scipy.stats as st\n",
    "import itertools\n",
    "import warnings\n",
    "warnings.filterwarnings('ignore')"
   ]
  },
  {
   "cell_type": "code",
   "execution_count": 2,
   "id": "bfcb7e67",
   "metadata": {},
   "outputs": [],
   "source": [
    "models = ['ARIMA','SARIMA','Moving Average','Random Forest','XGBoost','Average']"
   ]
  },
  {
   "cell_type": "code",
   "execution_count": 3,
   "id": "c6b728e9",
   "metadata": {},
   "outputs": [],
   "source": [
    "d='P1'"
   ]
  },
  {
   "cell_type": "code",
   "execution_count": 4,
   "id": "ba487af0",
   "metadata": {},
   "outputs": [
    {
     "name": "stdout",
     "output_type": "stream",
     "text": [
      "Enter the time periods for training: 45\n"
     ]
    }
   ],
   "source": [
    "training_periods = int(input('Enter the time periods for training: '))"
   ]
  },
  {
   "cell_type": "code",
   "execution_count": 5,
   "id": "9473c361",
   "metadata": {},
   "outputs": [
    {
     "name": "stdout",
     "output_type": "stream",
     "text": [
      "Enter the time periods for forecast: 12\n"
     ]
    }
   ],
   "source": [
    "forecast_periods = int(input('Enter the time periods for forecast: '))"
   ]
  },
  {
   "cell_type": "code",
   "execution_count": 6,
   "id": "3060f5c1",
   "metadata": {},
   "outputs": [],
   "source": [
    "data = pd.read_csv('P1.csv', index_col='Date', parse_dates=True)\n",
    "#data['Date']=pd.to_datetime(data['Date'])\n",
    "#data=data.set_index('Date')"
   ]
  },
  {
   "cell_type": "code",
   "execution_count": 7,
   "id": "9e12ec5e",
   "metadata": {},
   "outputs": [],
   "source": [
    "def return_stationary(sales_orignal):\n",
    "    ctr=0\n",
    "    if adfuller(sales_orignal)[1]>0.05:\n",
    "        while(ctr<=3):\n",
    "            ctr+=1\n",
    "            sales_orignal = sales_orignal - sales_orignal.shift(1)\n",
    "            sales_orignal.dropna(inplace=True)\n",
    "            if adfuller(sales_orignal)[1]<=0.05:\n",
    "                break\n",
    "            else:\n",
    "                continue\n",
    "    return sales_orignal,ctr"
   ]
  },
  {
   "cell_type": "code",
   "execution_count": 8,
   "id": "5a55e0ed",
   "metadata": {},
   "outputs": [],
   "source": [
    "stationary_series,order_of_differencing = return_stationary(data)"
   ]
  },
  {
   "cell_type": "code",
   "execution_count": 9,
   "id": "52727df3",
   "metadata": {},
   "outputs": [],
   "source": [
    "def train_test_data_prep_ts(data):\n",
    "    train_data = data[:training_periods]\n",
    "    test_data = data[training_periods:]\n",
    "    return train_data,test_data"
   ]
  },
  {
   "cell_type": "code",
   "execution_count": 10,
   "id": "768762af",
   "metadata": {},
   "outputs": [],
   "source": [
    "def train_test_data_prep_reg(data,periods_of_forecast):\n",
    "    sales = data.copy(deep=True)\n",
    "    sales['Lag_p']=sales[d].shift(forecast_periods) # Lag for p periods\n",
    "    sales['Lag_p1']=sales[d].shift(forecast_periods+1) # Lag for p+1 periods\n",
    "    sales=sales.dropna()\n",
    "    #Creating values for model metrics calculation\n",
    "    x1_v,x2_v,y=sales['Lag_p'],sales['Lag_p1'],sales[d] #Storing values of lags(independent features) and actual sales(dependent feature) in series\n",
    "    x1_v,x2_v,y=np.array(x1_v),np.array(x2_v),np.array(y) #Converting the series in array\n",
    "    x1_v,x2_v,y=x1_v.reshape(-1,1),x2_v.reshape(-1,1),y.reshape(-1,1)\n",
    "    final_x_v=np.concatenate((x1_v,x2_v),axis=1) # Series of independent features\n",
    "    #print(final_x_v)\n",
    "    X_train,X_test,y_train,y_test=final_x_v[:-periods_of_forecast],final_x_v[-periods_of_forecast:],y[:-periods_of_forecast],y[-periods_of_forecast:] #Splitting data in train and test\n",
    "    return X_train,X_test,y_train,y_test"
   ]
  },
  {
   "cell_type": "code",
   "execution_count": 11,
   "id": "96cb6f87",
   "metadata": {},
   "outputs": [],
   "source": [
    "def reg_model_data_generator(data,periods):\n",
    "    sales = data.copy(deep=True)\n",
    "    sales['Lag_p']=sales[d].shift(periods) # Lag for p periods\n",
    "    sales['Lag_p1']=sales[d].shift(periods+1) # Lag for p+1 periods\n",
    "    sales=sales.dropna()\n",
    "    x1,x2,y = np.array(sales['Lag_p']),np.array(sales['Lag_p1']),np.array(sales[d])\n",
    "    x1,x2=x1.reshape(-1,1),x2.reshape(-1,1)\n",
    "    x_model,y_model = np.concatenate((x1,x2),axis=1),y\n",
    "    x1_pred,x2_pred = np.array(sales[d][-periods:]),np.array(sales[d][-(periods+1):-1])\n",
    "    x1_pred,x2_pred=x1_pred.reshape(-1,1),x2_pred.reshape(-1,1)\n",
    "    x_pred = np.concatenate((x1_pred,x2_pred), axis=1)\n",
    "    return x_model,y_model,x_pred"
   ]
  },
  {
   "cell_type": "code",
   "execution_count": 12,
   "id": "ea6afb9c",
   "metadata": {},
   "outputs": [],
   "source": [
    "train_data,test_data = train_test_data_prep_ts(data)"
   ]
  },
  {
   "cell_type": "code",
   "execution_count": 13,
   "id": "84cc838b",
   "metadata": {
    "scrolled": true
   },
   "outputs": [],
   "source": [
    "train_X,test_X,train_Y,test_Y = train_test_data_prep_reg(data,len(test_data))\n",
    "xmodel,ymodel,xpred = reg_model_data_generator(data,forecast_periods)"
   ]
  },
  {
   "cell_type": "code",
   "execution_count": null,
   "id": "a9abf90d",
   "metadata": {},
   "outputs": [],
   "source": [
    "dict = {'ARIMA':ar_prediction(train_test_data_prep_ts(data)[0],len(train_test_data_prep_ts(data)[1])),'SARIMA':sarima_prediction(train_test_data_prep_ts(data)[0],len(train_test_data_prep_ts(data)[1])),'Random Forest': rf_prediction(train_X,train_Y,test_X),'XGBOOST':xgb_prediction(train_X,train_Y,test_X)}"
   ]
  },
  {
   "cell_type": "code",
   "execution_count": 14,
   "id": "c3779cf5",
   "metadata": {},
   "outputs": [],
   "source": [
    "def metrics(predictions,targets):\n",
    "    return round(np.sqrt(((predictions - targets) ** 2).mean()),2),round((np.mean(np.abs((targets - predictions)/targets))*100),2), round(mae(targets, predictions),2)"
   ]
  },
  {
   "cell_type": "code",
   "execution_count": 15,
   "id": "afec8359",
   "metadata": {},
   "outputs": [],
   "source": [
    "def visuals(model):\n",
    "    fig = plt.figure(figsize=(12,6))\n",
    "    plt.plot(data_test_pred[d])\n",
    "    plt.plot(data_test_pred[model])\n",
    "    plt.legend([\"Actual\",\"Prediction\"], loc =\"lower right\")\n",
    "    fig = plt.figure(figsize=(12,6))\n",
    "    plt.plot(data[d])\n",
    "    plt.plot(prediction)\n",
    "    plt.legend([\"Actual\",\"Prediction\"], loc =\"upper right\")"
   ]
  },
  {
   "cell_type": "code",
   "execution_count": 16,
   "id": "c557d458",
   "metadata": {},
   "outputs": [],
   "source": [
    "def ma12_prediction(sales,periods_of_forecast):\n",
    "    #sales = sales[[d]]\n",
    "    model = ARIMA(sales, order=(0,0,9))\n",
    "    model_fit = model.fit()\n",
    "    predictions = model_fit.forecast(steps=periods_of_forecast)\n",
    "    return predictions"
   ]
  },
  {
   "cell_type": "code",
   "execution_count": 17,
   "id": "e4f847ec",
   "metadata": {},
   "outputs": [],
   "source": [
    "def ar_prediction(sales,periods_of_forecast):\n",
    "    model_auto = pm.auto_arima(sales[d],\n",
    "                          m = 0, seasonal = False,\n",
    "                          start_p = 0,start_q=0,max_order=2,test='adf',error_action = 'ignore',\n",
    "                          suppress_warnings =True,\n",
    "                          stepwise =True,trace = True)\n",
    "    model_auto_fit = model_auto.fit(sales[d])\n",
    "    predictions = model_auto_fit.predict(n_periods=periods_of_forecast)\n",
    "    return predictions"
   ]
  },
  {
   "cell_type": "code",
   "execution_count": 18,
   "id": "d671f923",
   "metadata": {},
   "outputs": [],
   "source": [
    "# Function that takes sales data as input and return predictions for test phase, RMSE, MAE, and MAPE for sarima model\n",
    "def sarima_prediction(sales,periods_of_forecast):\n",
    "    p = q = range(0, 3)\n",
    "    diff= range(order_of_differencing, order_of_differencing+1)\n",
    "    pdq = list(itertools.product(p, diff, q))\n",
    "    ARIMA_AIC = pd.DataFrame(columns=['param', 'AIC'])\n",
    "    for param in pdq:\n",
    "        ARIMA_model = ARIMA(data[d],order=param).fit()\n",
    "        #print('ARIMA{} - AIC:{}'.format(param,ARIMA_model.aic))\n",
    "        ARIMA_AIC = ARIMA_AIC.append({'param':param, 'AIC': ARIMA_model.aic}, ignore_index=True)\n",
    "    ARIMA_AIC = ARIMA_AIC.sort_values(by='AIC',ascending=True)\n",
    "    model=sm.tsa.statespace.SARIMAX(sales[d],order=(ARIMA_AIC['param'][0][0], ARIMA_AIC['param'][0][1], ARIMA_AIC['param'][0][2]),seasonal_order=(ARIMA_AIC['param'][0][0],ARIMA_AIC['param'][0][1],ARIMA_AIC['param'][0][2],12))\n",
    "    results=model.fit()\n",
    "    predictions=results.predict(start=sales.count()[0],end=sales.count()[0]+periods_of_forecast-1,dynamic=True)\n",
    "    return predictions"
   ]
  },
  {
   "cell_type": "code",
   "execution_count": 19,
   "id": "c5ed2313",
   "metadata": {},
   "outputs": [],
   "source": [
    "def rf_prediction(X_training,y_training,X_prediction):\n",
    "    model=RandomForestRegressor(n_estimators=100,max_features=2, random_state=1)\n",
    "    #Creating values for model metrics calculation\n",
    "    model.fit(X_training,y_training) # Fitting the model\n",
    "    predictions=model.predict(X_prediction) # Getting predictions for test phase\n",
    "    return predictions"
   ]
  },
  {
   "cell_type": "code",
   "execution_count": 20,
   "id": "9b2e5482",
   "metadata": {},
   "outputs": [],
   "source": [
    "def xgb_prediction(X_train,y_train,X_test):\n",
    "    model = XGBRegressor()\n",
    "    model.fit(X_train,y_train) # Fitting the model\n",
    "    predictions=model.predict(X_test) # Getting predictions for test phase\n",
    "    return predictions"
   ]
  },
  {
   "cell_type": "code",
   "execution_count": null,
   "id": "4fe2cae1",
   "metadata": {},
   "outputs": [],
   "source": [
    "def average_model"
   ]
  },
  {
   "cell_type": "code",
   "execution_count": null,
   "id": "dd26b325",
   "metadata": {},
   "outputs": [],
   "source": []
  },
  {
   "cell_type": "code",
   "execution_count": null,
   "id": "a6e4e075",
   "metadata": {},
   "outputs": [],
   "source": []
  },
  {
   "cell_type": "code",
   "execution_count": null,
   "id": "2afe3256",
   "metadata": {},
   "outputs": [],
   "source": []
  },
  {
   "cell_type": "code",
   "execution_count": null,
   "id": "a0cce63d",
   "metadata": {},
   "outputs": [],
   "source": [
    "# Storing the data of predictions of test data\n",
    "data_test_pred = test_data.copy(deep=True)\n",
    "data_test_pred['ARIMA']=ar_prediction(train_data,len(test_data))\n",
    "data_test_pred['SARIMA']=sarima_prediction(train_data,len(test_data))\n",
    "data_test_pred['Random Forest']=rf_prediction(train_X,train_Y,test_X)\n",
    "data_test_pred['Moving Average']=ma12_prediction(train_data,len(test_data))\n",
    "data_test_pred['XGBoost']=xgb_prediction(train_X,train_Y,test_X)\n",
    "data_test_pred['Average']=data_test_pred[['ARIMA','Random Forest','Moving Average','XGBoost','SARIMA']].mean(axis=1)"
   ]
  },
  {
   "cell_type": "code",
   "execution_count": null,
   "id": "5320a571",
   "metadata": {},
   "outputs": [],
   "source": [
    "models"
   ]
  },
  {
   "cell_type": "code",
   "execution_count": null,
   "id": "8e2409c1",
   "metadata": {},
   "outputs": [],
   "source": [
    "dict = {'ARIMA':ar_prediction(train_test_data_prep_ts(data)[0],len(train_test_data_prep_ts(data)[1])),'SARIMA':sarima_prediction(train_test_data_prep_ts(data)[0],len(train_test_data_prep_ts(data)[1])),'Random Forest': rf_prediction(train_X,train_Y,test_X),'XGBOOST':xgb_prediction(train_X,train_Y,test_X)}"
   ]
  },
  {
   "cell_type": "code",
   "execution_count": null,
   "id": "cde9badd",
   "metadata": {},
   "outputs": [],
   "source": [
    "PR = dict['ARIMA']"
   ]
  },
  {
   "cell_type": "code",
   "execution_count": null,
   "id": "18abf2a0",
   "metadata": {},
   "outputs": [],
   "source": [
    "PR"
   ]
  },
  {
   "cell_type": "code",
   "execution_count": null,
   "id": "93bdf813",
   "metadata": {},
   "outputs": [],
   "source": [
    "x = dict['ARIMA']"
   ]
  },
  {
   "cell_type": "code",
   "execution_count": null,
   "id": "dd421401",
   "metadata": {},
   "outputs": [],
   "source": [
    "x(train_data,len(test_data))"
   ]
  },
  {
   "cell_type": "code",
   "execution_count": null,
   "id": "79367388",
   "metadata": {},
   "outputs": [],
   "source": [
    "def model_calling(model):\n",
    "    predict = model()"
   ]
  },
  {
   "cell_type": "code",
   "execution_count": null,
   "id": "95a57bc1",
   "metadata": {},
   "outputs": [],
   "source": [
    "metrics_table=pd.DataFrame(columns=models)\n",
    "for i in models:\n",
    "    metrics_table[i] = list(metrics(data_test_pred[i],test_data[d]))\n",
    "list_metric = ['RMSE','MAE','MAPE']\n",
    "metrics_table['Metric']=list_metric\n",
    "metrics_table = metrics_table.set_index('Metric')"
   ]
  },
  {
   "cell_type": "code",
   "execution_count": null,
   "id": "7687726c",
   "metadata": {},
   "outputs": [],
   "source": [
    "metrics_table"
   ]
  },
  {
   "cell_type": "code",
   "execution_count": null,
   "id": "78224c51",
   "metadata": {},
   "outputs": [],
   "source": [
    "# Dictionary is created that maps the metric to a numeric value\n",
    "mapping_dict = {\"RMSE\":0,\"MAE\":1,\"MAPE\":2}\n",
    "# Takes the input of metric of choice from the user and stores it\n",
    "user_input_metric = input('Enter the metric: ')"
   ]
  },
  {
   "cell_type": "code",
   "execution_count": null,
   "id": "d9a130fb",
   "metadata": {},
   "outputs": [],
   "source": [
    "# Compares user preferred metric value and gives the index of winner model\n",
    "#index 0- Auto Arima\n",
    "#index 1-Moving Average\n",
    "#index 2-Random Forest\n",
    "#index 3-XG Boost\n",
    "#index 4-Average model of all models\n",
    "def winner_model(ar,sarima,ma,rf,xgb,avg):\n",
    "    l=[ar[mapping_dict[user_input_metric]],sarima[mapping_dict[user_input_metric]],ma[mapping_dict[user_input_metric]],rf[mapping_dict[user_input_metric]],xgb[mapping_dict[user_input_metric]],avg[mapping_dict[user_input_metric]]]\n",
    "    min_element = l[0]\n",
    "    min_index=0\n",
    "    for i in range(len(l)):\n",
    "        if l[i]<min_element:\n",
    "            min_element=l[i]\n",
    "            min_index=i\n",
    "    return(min_index)"
   ]
  },
  {
   "cell_type": "code",
   "execution_count": null,
   "id": "4e3b4427",
   "metadata": {},
   "outputs": [],
   "source": [
    "winning_model = winner_model(metrics_table['ARIMA'],metrics_table['SARIMA'],metrics_table['Moving Average'],metrics_table['Random Forest'],metrics_table['XGBoost'],metrics_table['Average'])"
   ]
  },
  {
   "cell_type": "code",
   "execution_count": null,
   "id": "eaf25c8f",
   "metadata": {},
   "outputs": [],
   "source": [
    "models = ['ARIMA','SARIMA','Moving Average','Random Forest','XGBoost','Average']"
   ]
  },
  {
   "cell_type": "code",
   "execution_count": null,
   "id": "4f6736b4",
   "metadata": {},
   "outputs": [],
   "source": [
    "winner = {0:models[0],1:models[1],2:models[2],3:models[3],4:models[4],5:models[5]}"
   ]
  },
  {
   "cell_type": "code",
   "execution_count": null,
   "id": "1772110e",
   "metadata": {},
   "outputs": [],
   "source": [
    "def visualize(prediction_test,prediction_future):\n",
    "    fig = plt.figure(figsize=(12,6))\n",
    "    plt.plot(data_test_pred[d])\n",
    "    plt.plot(prediction_test)\n",
    "    plt.legend([\"Actual\",\"Prediction\"], loc =\"lower right\")\n",
    "    fig = plt.figure(figsize=(12,6))\n",
    "    plt.plot(data[d])\n",
    "    plt.plot(prediction_future)\n",
    "    plt.legend([\"Actual\",\"Prediction\"], loc =\"upper right\")"
   ]
  },
  {
   "cell_type": "code",
   "execution_count": null,
   "id": "4c6a5ea7",
   "metadata": {},
   "outputs": [],
   "source": [
    "#Forecasting from winner model\n",
    "if winner_metric == 0: #Auto ARIMA is the winner\n",
    "    n_pred = ar_prediction(data,forecast_periods)\n",
    "    visualize(data_test_pred['ARIMA'],n_pred)\n",
    "elif winner_metric == 1:\n",
    "    n_pred = sarima_prediction(data,forecast_periods)\n",
    "    visualize(data_test_pred['SARIMA'],n_pred)\n",
    "elif winner_metric == 2: #11 Week MA is winner\n",
    "    n_pred = ma12_prediction(data,forecast_periods)\n",
    "    visualize(data_test_pred['Moving Average'],n_pred)\n",
    "elif winner_metric == 3: #Random Forest is the winner\n",
    "    #creating values for forecasting final values\n",
    "    n_pred=rf_prediction(xmodel,ymodel,xpred)\n",
    "    visualize(data_test_pred['Random Forest'],n_pred)\n",
    "elif winner_metric == 4: #XG Boost is the winner\n",
    "    #creating values for forecasting final values\n",
    "    n_pred=xgb_prediction(xmodel,ymodel,xpred)\n",
    "    visualize(data_test_pred['XGBoost'],n_pred)\n",
    "elif winner_metric == 5: #Average model is the winner\n",
    "    overall_pred = pd.DataFrame(columns=models)\n",
    "    overall_pred['ARIMA']=ar_prediction(data,forecast_periods)\n",
    "    overall_pred['SARIMA']=sarima_prediction(data,forecast_periods)\n",
    "    overall_pred['Random Forest']=rf_prediction(xmodel,ymodel,xpred)\n",
    "    overall_pred['Moving Average']=ma12_prediction(data,forecast_periods)\n",
    "    overall_pred['XGBoost']=xgb_prediction(xmodel,ymodel,xpred)\n",
    "    overall_pred['Average']= overall_pred.mean(axis=1)\n",
    "    #overall_pred = overall_pred[['Forecast_avg']]\n",
    "    n_pred = overall_pred['Average']\n",
    "    visualize(data_test_pred['Average'],n_pred)"
   ]
  },
  {
   "cell_type": "code",
   "execution_count": null,
   "id": "085d6135",
   "metadata": {},
   "outputs": [],
   "source": [
    "overall_pred"
   ]
  },
  {
   "cell_type": "code",
   "execution_count": null,
   "id": "52b87502",
   "metadata": {},
   "outputs": [],
   "source": [
    "rf_prediction(xmodel,ymodel,xpred)"
   ]
  },
  {
   "cell_type": "code",
   "execution_count": null,
   "id": "cf1e51ce",
   "metadata": {},
   "outputs": [],
   "source": [
    "ar_prediction(data,forecast_periods)"
   ]
  },
  {
   "cell_type": "code",
   "execution_count": null,
   "id": "49d226f6",
   "metadata": {},
   "outputs": [],
   "source": []
  },
  {
   "cell_type": "code",
   "execution_count": null,
   "id": "cf4b6367",
   "metadata": {},
   "outputs": [],
   "source": []
  },
  {
   "cell_type": "code",
   "execution_count": null,
   "id": "fc2ba760",
   "metadata": {},
   "outputs": [],
   "source": [
    "ar_metric_return(data,10)"
   ]
  }
 ],
 "metadata": {
  "kernelspec": {
   "display_name": "Python 3 (ipykernel)",
   "language": "python",
   "name": "python3"
  },
  "language_info": {
   "codemirror_mode": {
    "name": "ipython",
    "version": 3
   },
   "file_extension": ".py",
   "mimetype": "text/x-python",
   "name": "python",
   "nbconvert_exporter": "python",
   "pygments_lexer": "ipython3",
   "version": "3.9.12"
  }
 },
 "nbformat": 4,
 "nbformat_minor": 5
}
